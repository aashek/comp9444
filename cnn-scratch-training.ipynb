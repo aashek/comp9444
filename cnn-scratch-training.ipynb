{
 "cells": [
  {
   "cell_type": "code",
   "execution_count": 2,
   "metadata": {},
   "outputs": [],
   "source": [
    "#Load libraries\n",
    "import os\n",
    "import numpy as np\n",
    "import torch\n",
    "import glob\n",
    "import torch.nn as nn\n",
    "from torchvision.transforms import transforms\n",
    "from torch.utils.data import DataLoader\n",
    "from torch.optim import Adam\n",
    "from torch.autograd import Variable\n",
    "import torchvision\n",
    "import pathlib"
   ]
  },
  {
   "cell_type": "code",
   "execution_count": 3,
   "metadata": {},
   "outputs": [],
   "source": [
    "#checking for device\n",
    "device=torch.device('cuda' if torch.cuda.is_available() else 'cpu')"
   ]
  },
  {
   "cell_type": "code",
   "execution_count": 4,
   "metadata": {},
   "outputs": [
    {
     "name": "stdout",
     "output_type": "stream",
     "text": [
      "cpu\n"
     ]
    }
   ],
   "source": [
    "print(device)"
   ]
  },
  {
   "cell_type": "code",
   "execution_count": 5,
   "metadata": {},
   "outputs": [],
   "source": [
    "#Transforms\n",
    "transformer=transforms.Compose([\n",
    "    transforms.Resize((150,150)), # Resize image to 150 x 150\n",
    "    transforms.RandomHorizontalFlip(), # Randomly choose to flip horizontally or not\n",
    "    transforms.ToTensor(),  #0-255 to 0-1, numpy to tensors\n",
    "    transforms.Normalize([0.5,0.5,0.5], # 0-1 to [-1,1] , formula (x-mean)/std\n",
    "                        [0.5,0.5,0.5])\n",
    "])"
   ]
  },
  {
   "cell_type": "code",
   "execution_count": 6,
   "metadata": {},
   "outputs": [],
   "source": [
    "# set variables for path names\n",
    "train_path=r\"C:\\Users\\selfa\\Desktop\\github\\galaxy-gesture\\TEST_DATA\\seg_train\"\n",
    "test_path=r\"C:\\Users\\selfa\\Desktop\\github\\galaxy-gesture\\TEST_DATA\\seg_test\"\n",
    "pred_path=r\"C:\\Users\\selfa\\Desktop\\github\\galaxy-gesture\\TEST_DATA\\seg_pred\""
   ]
  },
  {
   "cell_type": "code",
   "execution_count": 7,
   "metadata": {},
   "outputs": [],
   "source": [
    "#Dataloader\n",
    "\n",
    "#Path for training and testing directory\n",
    "train_loader=DataLoader(\n",
    "    torchvision.datasets.ImageFolder(train_path,transform=transformer),\n",
    "    batch_size=64, shuffle=True\n",
    ")\n",
    "test_loader=DataLoader(\n",
    "    torchvision.datasets.ImageFolder(test_path,transform=transformer),\n",
    "    batch_size=32, shuffle=True\n",
    ")"
   ]
  },
  {
   "cell_type": "code",
   "execution_count": 8,
   "metadata": {},
   "outputs": [],
   "source": [
    "#categories\n",
    "root=pathlib.Path(train_path)\n",
    "# print(root)\n",
    "classes=sorted([j.name.split('/')[-1] for j in root.iterdir()])"
   ]
  },
  {
   "cell_type": "code",
   "execution_count": 9,
   "metadata": {},
   "outputs": [
    {
     "name": "stdout",
     "output_type": "stream",
     "text": [
      "['A', 'B']\n"
     ]
    }
   ],
   "source": [
    "print(classes)"
   ]
  },
  {
   "cell_type": "code",
   "execution_count": 10,
   "metadata": {},
   "outputs": [],
   "source": [
    "#CNN Network\n",
    "\n",
    "\n",
    "class ConvNet(nn.Module):\n",
    "    def __init__(self,num_classes=2):\n",
    "        super(ConvNet,self).__init__()\n",
    "        \n",
    "        #Output size after convolution filter\n",
    "        #((w-f+2P)/s) +1\n",
    "        \n",
    "        #Input shape= (256,3,150,150)\n",
    "        \n",
    "        self.conv1=nn.Conv2d(in_channels=3,out_channels=12,kernel_size=3,stride=1,padding=1)\n",
    "        #Shape= (256,12,150,150)\n",
    "        self.bn1=nn.BatchNorm2d(num_features=12)\n",
    "        #Shape= (256,12,150,150)\n",
    "        self.relu1=nn.ReLU()\n",
    "        #Shape= (256,12,150,150)\n",
    "        \n",
    "        self.pool=nn.MaxPool2d(kernel_size=2)\n",
    "        #Reduce the image size be factor 2\n",
    "        #Shape= (256,12,75,75)\n",
    "        \n",
    "        \n",
    "        self.conv2=nn.Conv2d(in_channels=12,out_channels=20,kernel_size=3,stride=1,padding=1)\n",
    "        #Shape= (256,20,75,75)\n",
    "        self.relu2=nn.ReLU()\n",
    "        #Shape= (256,20,75,75)\n",
    "        \n",
    "        \n",
    "        \n",
    "        self.conv3=nn.Conv2d(in_channels=20,out_channels=32,kernel_size=3,stride=1,padding=1)\n",
    "        #Shape= (256,32,75,75)\n",
    "        self.bn3=nn.BatchNorm2d(num_features=32)\n",
    "        #Shape= (256,32,75,75)\n",
    "        self.relu3=nn.ReLU()\n",
    "        #Shape= (256,32,75,75)\n",
    "        \n",
    "        \n",
    "        self.fc=nn.Linear(in_features=75 * 75 * 32,out_features=num_classes)\n",
    "        \n",
    "        \n",
    "        \n",
    "        #Feed forwad function\n",
    "        \n",
    "    def forward(self,input):\n",
    "        output=self.conv1(input)\n",
    "        output=self.bn1(output)\n",
    "        output=self.relu1(output)\n",
    "            \n",
    "        output=self.pool(output)\n",
    "            \n",
    "        output=self.conv2(output)\n",
    "        output=self.relu2(output)\n",
    "            \n",
    "        output=self.conv3(output)\n",
    "        output=self.bn3(output)\n",
    "        output=self.relu3(output)\n",
    "            \n",
    "            \n",
    "            #Above output will be in matrix form, with shape (256,32,75,75)\n",
    "            \n",
    "        output=output.view(-1,32*75*75)\n",
    "            \n",
    "            \n",
    "        output=self.fc(output)\n",
    "            \n",
    "        return output\n",
    "            \n",
    "        \n"
   ]
  },
  {
   "cell_type": "code",
   "execution_count": 12,
   "metadata": {},
   "outputs": [],
   "source": [
    "model=ConvNet(num_classes=2).to(device)"
   ]
  },
  {
   "cell_type": "code",
   "execution_count": 13,
   "metadata": {},
   "outputs": [],
   "source": [
    "#Optmizer and loss function\n",
    "optimizer=Adam(model.parameters(),lr=0.001,weight_decay=0.0001)\n",
    "loss_function=nn.CrossEntropyLoss()"
   ]
  },
  {
   "cell_type": "code",
   "execution_count": 15,
   "metadata": {},
   "outputs": [],
   "source": [
    "num_epochs=100"
   ]
  },
  {
   "cell_type": "code",
   "execution_count": 16,
   "metadata": {},
   "outputs": [],
   "source": [
    "#calculating the size of training and testing images\n",
    "train_count=len(glob.glob(train_path+'/**/*.jpg'))\n",
    "test_count=len(glob.glob(test_path+'/**/*.jpg'))"
   ]
  },
  {
   "cell_type": "code",
   "execution_count": 17,
   "metadata": {
    "scrolled": true
   },
   "outputs": [
    {
     "name": "stdout",
     "output_type": "stream",
     "text": [
      "240 72\n"
     ]
    }
   ],
   "source": [
    "print(train_count,test_count)"
   ]
  },
  {
   "cell_type": "code",
   "execution_count": 18,
   "metadata": {},
   "outputs": [
    {
     "name": "stdout",
     "output_type": "stream",
     "text": [
      "Epoch: 0 Train Loss: tensor(17.1272) Train Accuracy: 0.4375 Test Accuracy: 0.5\n",
      "Epoch: 1 Train Loss: tensor(10.7848) Train Accuracy: 0.5 Test Accuracy: 0.5277777777777778\n",
      "Epoch: 2 Train Loss: tensor(4.8958) Train Accuracy: 0.5958333333333333 Test Accuracy: 0.4722222222222222\n",
      "Epoch: 3 Train Loss: tensor(3.0148) Train Accuracy: 0.7291666666666666 Test Accuracy: 0.5\n",
      "Epoch: 4 Train Loss: tensor(1.6228) Train Accuracy: 0.7375 Test Accuracy: 0.4583333333333333\n",
      "Epoch: 5 Train Loss: tensor(1.7990) Train Accuracy: 0.7333333333333333 Test Accuracy: 0.4444444444444444\n",
      "Epoch: 6 Train Loss: tensor(1.0879) Train Accuracy: 0.8083333333333333 Test Accuracy: 0.4861111111111111\n",
      "Epoch: 7 Train Loss: tensor(1.3372) Train Accuracy: 0.8125 Test Accuracy: 0.4722222222222222\n",
      "Epoch: 8 Train Loss: tensor(0.8971) Train Accuracy: 0.8541666666666666 Test Accuracy: 0.5277777777777778\n",
      "Epoch: 9 Train Loss: tensor(0.6121) Train Accuracy: 0.8708333333333333 Test Accuracy: 0.5555555555555556\n",
      "Epoch: 10 Train Loss: tensor(0.5507) Train Accuracy: 0.8958333333333334 Test Accuracy: 0.5555555555555556\n",
      "Epoch: 11 Train Loss: tensor(0.5149) Train Accuracy: 0.8916666666666667 Test Accuracy: 0.5555555555555556\n",
      "Epoch: 12 Train Loss: tensor(0.5022) Train Accuracy: 0.9083333333333333 Test Accuracy: 0.5416666666666666\n",
      "Epoch: 13 Train Loss: tensor(0.3599) Train Accuracy: 0.9333333333333333 Test Accuracy: 0.5833333333333334\n",
      "Epoch: 14 Train Loss: tensor(0.2984) Train Accuracy: 0.9333333333333333 Test Accuracy: 0.4722222222222222\n",
      "Epoch: 15 Train Loss: tensor(0.0778) Train Accuracy: 0.9791666666666666 Test Accuracy: 0.5138888888888888\n",
      "Epoch: 16 Train Loss: tensor(0.0557) Train Accuracy: 0.9916666666666667 Test Accuracy: 0.4861111111111111\n",
      "Epoch: 17 Train Loss: tensor(0.0474) Train Accuracy: 0.9833333333333333 Test Accuracy: 0.5416666666666666\n",
      "Epoch: 18 Train Loss: tensor(0.0118) Train Accuracy: 0.9958333333333333 Test Accuracy: 0.4722222222222222\n",
      "Epoch: 19 Train Loss: tensor(0.0398) Train Accuracy: 0.9833333333333333 Test Accuracy: 0.4861111111111111\n",
      "Epoch: 20 Train Loss: tensor(0.0106) Train Accuracy: 0.9958333333333333 Test Accuracy: 0.5555555555555556\n",
      "Epoch: 21 Train Loss: tensor(0.0196) Train Accuracy: 0.9833333333333333 Test Accuracy: 0.4583333333333333\n",
      "Epoch: 22 Train Loss: tensor(0.0145) Train Accuracy: 0.9958333333333333 Test Accuracy: 0.5138888888888888\n",
      "Epoch: 23 Train Loss: tensor(0.0105) Train Accuracy: 1.0 Test Accuracy: 0.5277777777777778\n",
      "Epoch: 24 Train Loss: tensor(0.0072) Train Accuracy: 0.9958333333333333 Test Accuracy: 0.5555555555555556\n",
      "Epoch: 25 Train Loss: tensor(0.0105) Train Accuracy: 0.9958333333333333 Test Accuracy: 0.5694444444444444\n",
      "Epoch: 26 Train Loss: tensor(0.0005) Train Accuracy: 1.0 Test Accuracy: 0.5138888888888888\n",
      "Epoch: 27 Train Loss: tensor(0.0002) Train Accuracy: 1.0 Test Accuracy: 0.5555555555555556\n",
      "Epoch: 28 Train Loss: tensor(0.0002) Train Accuracy: 1.0 Test Accuracy: 0.5555555555555556\n",
      "Epoch: 29 Train Loss: tensor(0.0331) Train Accuracy: 0.9958333333333333 Test Accuracy: 0.5138888888888888\n",
      "Epoch: 30 Train Loss: tensor(0.0019) Train Accuracy: 1.0 Test Accuracy: 0.5\n",
      "Epoch: 31 Train Loss: tensor(0.0004) Train Accuracy: 1.0 Test Accuracy: 0.5416666666666666\n",
      "Epoch: 32 Train Loss: tensor(0.0002) Train Accuracy: 1.0 Test Accuracy: 0.5694444444444444\n",
      "Epoch: 33 Train Loss: tensor(0.0002) Train Accuracy: 1.0 Test Accuracy: 0.4861111111111111\n",
      "Epoch: 34 Train Loss: tensor(0.0003) Train Accuracy: 1.0 Test Accuracy: 0.5277777777777778\n",
      "Epoch: 35 Train Loss: tensor(0.0003) Train Accuracy: 1.0 Test Accuracy: 0.5277777777777778\n",
      "Epoch: 36 Train Loss: tensor(7.4831e-05) Train Accuracy: 1.0 Test Accuracy: 0.5555555555555556\n",
      "Epoch: 37 Train Loss: tensor(8.5467e-05) Train Accuracy: 1.0 Test Accuracy: 0.5138888888888888\n",
      "Epoch: 38 Train Loss: tensor(8.7688e-05) Train Accuracy: 1.0 Test Accuracy: 0.5833333333333334\n",
      "Epoch: 39 Train Loss: tensor(8.5065e-05) Train Accuracy: 1.0 Test Accuracy: 0.5555555555555556\n",
      "Epoch: 40 Train Loss: tensor(4.3227e-05) Train Accuracy: 1.0 Test Accuracy: 0.4861111111111111\n",
      "Epoch: 41 Train Loss: tensor(7.2426e-05) Train Accuracy: 1.0 Test Accuracy: 0.5555555555555556\n",
      "Epoch: 42 Train Loss: tensor(5.0037e-05) Train Accuracy: 1.0 Test Accuracy: 0.5416666666666666\n",
      "Epoch: 43 Train Loss: tensor(7.2516e-05) Train Accuracy: 1.0 Test Accuracy: 0.4861111111111111\n",
      "Epoch: 44 Train Loss: tensor(2.7530e-05) Train Accuracy: 1.0 Test Accuracy: 0.4583333333333333\n",
      "Epoch: 45 Train Loss: tensor(6.0325e-05) Train Accuracy: 1.0 Test Accuracy: 0.5694444444444444\n",
      "Epoch: 46 Train Loss: tensor(2.9141e-05) Train Accuracy: 1.0 Test Accuracy: 0.5\n",
      "Epoch: 47 Train Loss: tensor(2.8820e-05) Train Accuracy: 1.0 Test Accuracy: 0.5555555555555556\n",
      "Epoch: 48 Train Loss: tensor(3.5689e-05) Train Accuracy: 1.0 Test Accuracy: 0.5694444444444444\n",
      "Epoch: 49 Train Loss: tensor(4.3065e-05) Train Accuracy: 1.0 Test Accuracy: 0.5\n",
      "Epoch: 50 Train Loss: tensor(4.5647e-05) Train Accuracy: 1.0 Test Accuracy: 0.4861111111111111\n",
      "Epoch: 51 Train Loss: tensor(5.7714e-05) Train Accuracy: 1.0 Test Accuracy: 0.5972222222222222\n",
      "Epoch: 52 Train Loss: tensor(3.2501e-05) Train Accuracy: 1.0 Test Accuracy: 0.5\n",
      "Epoch: 53 Train Loss: tensor(3.6855e-05) Train Accuracy: 1.0 Test Accuracy: 0.5694444444444444\n",
      "Epoch: 54 Train Loss: tensor(2.4666e-05) Train Accuracy: 1.0 Test Accuracy: 0.5555555555555556\n",
      "Epoch: 55 Train Loss: tensor(3.1238e-05) Train Accuracy: 1.0 Test Accuracy: 0.4861111111111111\n",
      "Epoch: 56 Train Loss: tensor(4.7111e-05) Train Accuracy: 1.0 Test Accuracy: 0.5277777777777778\n",
      "Epoch: 57 Train Loss: tensor(3.0243e-05) Train Accuracy: 1.0 Test Accuracy: 0.5416666666666666\n",
      "Epoch: 58 Train Loss: tensor(4.2913e-05) Train Accuracy: 1.0 Test Accuracy: 0.5833333333333334\n",
      "Epoch: 59 Train Loss: tensor(4.9178e-05) Train Accuracy: 1.0 Test Accuracy: 0.5277777777777778\n",
      "Epoch: 60 Train Loss: tensor(3.7979e-05) Train Accuracy: 1.0 Test Accuracy: 0.5555555555555556\n",
      "Epoch: 61 Train Loss: tensor(3.3723e-05) Train Accuracy: 1.0 Test Accuracy: 0.5\n",
      "Epoch: 62 Train Loss: tensor(2.5936e-05) Train Accuracy: 1.0 Test Accuracy: 0.5555555555555556\n",
      "Epoch: 63 Train Loss: tensor(3.2966e-05) Train Accuracy: 1.0 Test Accuracy: 0.5694444444444444\n",
      "Epoch: 64 Train Loss: tensor(2.6645e-05) Train Accuracy: 1.0 Test Accuracy: 0.5555555555555556\n",
      "Epoch: 65 Train Loss: tensor(3.7871e-05) Train Accuracy: 1.0 Test Accuracy: 0.5\n",
      "Epoch: 66 Train Loss: tensor(2.7301e-05) Train Accuracy: 1.0 Test Accuracy: 0.5416666666666666\n",
      "Epoch: 67 Train Loss: tensor(3.3407e-05) Train Accuracy: 1.0 Test Accuracy: 0.5277777777777778\n",
      "Epoch: 68 Train Loss: tensor(2.2704e-05) Train Accuracy: 1.0 Test Accuracy: 0.4861111111111111\n",
      "Epoch: 69 Train Loss: tensor(3.5035e-05) Train Accuracy: 1.0 Test Accuracy: 0.5694444444444444\n",
      "Epoch: 70 Train Loss: tensor(2.0869e-05) Train Accuracy: 1.0 Test Accuracy: 0.5416666666666666\n",
      "Epoch: 71 Train Loss: tensor(3.4656e-05) Train Accuracy: 1.0 Test Accuracy: 0.5138888888888888\n",
      "Epoch: 72 Train Loss: tensor(2.1036e-05) Train Accuracy: 1.0 Test Accuracy: 0.5138888888888888\n",
      "Epoch: 73 Train Loss: tensor(3.4019e-05) Train Accuracy: 1.0 Test Accuracy: 0.4722222222222222\n",
      "Epoch: 74 Train Loss: tensor(2.7969e-05) Train Accuracy: 1.0 Test Accuracy: 0.6111111111111112\n",
      "Epoch: 75 Train Loss: tensor(3.5917e-05) Train Accuracy: 1.0 Test Accuracy: 0.5833333333333334\n",
      "Epoch: 76 Train Loss: tensor(3.6295e-05) Train Accuracy: 1.0 Test Accuracy: 0.4722222222222222\n",
      "Epoch: 77 Train Loss: tensor(2.6377e-05) Train Accuracy: 1.0 Test Accuracy: 0.5555555555555556\n",
      "Epoch: 78 Train Loss: tensor(3.1163e-05) Train Accuracy: 1.0 Test Accuracy: 0.5416666666666666\n",
      "Epoch: 79 Train Loss: tensor(2.5790e-05) Train Accuracy: 1.0 Test Accuracy: 0.5277777777777778\n",
      "Epoch: 80 Train Loss: tensor(2.6191e-05) Train Accuracy: 1.0 Test Accuracy: 0.5555555555555556\n",
      "Epoch: 81 Train Loss: tensor(2.5373e-05) Train Accuracy: 1.0 Test Accuracy: 0.5833333333333334\n",
      "Epoch: 82 Train Loss: tensor(2.2670e-05) Train Accuracy: 1.0 Test Accuracy: 0.5138888888888888\n",
      "Epoch: 83 Train Loss: tensor(2.5140e-05) Train Accuracy: 1.0 Test Accuracy: 0.5694444444444444\n",
      "Epoch: 84 Train Loss: tensor(3.2171e-05) Train Accuracy: 1.0 Test Accuracy: 0.5277777777777778\n",
      "Epoch: 85 Train Loss: tensor(2.9897e-05) Train Accuracy: 1.0 Test Accuracy: 0.5416666666666666\n",
      "Epoch: 86 Train Loss: tensor(2.4716e-05) Train Accuracy: 1.0 Test Accuracy: 0.5138888888888888\n",
      "Epoch: 87 Train Loss: tensor(2.9212e-05) Train Accuracy: 1.0 Test Accuracy: 0.5555555555555556\n",
      "Epoch: 88 Train Loss: tensor(2.8309e-05) Train Accuracy: 1.0 Test Accuracy: 0.5138888888888888\n",
      "Epoch: 89 Train Loss: tensor(2.1891e-05) Train Accuracy: 1.0 Test Accuracy: 0.5555555555555556\n",
      "Epoch: 90 Train Loss: tensor(2.8393e-05) Train Accuracy: 1.0 Test Accuracy: 0.5416666666666666\n",
      "Epoch: 91 Train Loss: tensor(2.3640e-05) Train Accuracy: 1.0 Test Accuracy: 0.5555555555555556\n",
      "Epoch: 92 Train Loss: tensor(2.6954e-05) Train Accuracy: 1.0 Test Accuracy: 0.5416666666666666\n",
      "Epoch: 93 Train Loss: tensor(2.3629e-05) Train Accuracy: 1.0 Test Accuracy: 0.4722222222222222\n",
      "Epoch: 94 Train Loss: tensor(2.4540e-05) Train Accuracy: 1.0 Test Accuracy: 0.5138888888888888\n",
      "Epoch: 95 Train Loss: tensor(2.8213e-05) Train Accuracy: 1.0 Test Accuracy: 0.5277777777777778\n",
      "Epoch: 96 Train Loss: tensor(3.6646e-05) Train Accuracy: 1.0 Test Accuracy: 0.5277777777777778\n",
      "Epoch: 97 Train Loss: tensor(1.8143e-05) Train Accuracy: 1.0 Test Accuracy: 0.5833333333333334\n",
      "Epoch: 98 Train Loss: tensor(3.0756e-05) Train Accuracy: 1.0 Test Accuracy: 0.5833333333333334\n",
      "Epoch: 99 Train Loss: tensor(1.8947e-05) Train Accuracy: 1.0 Test Accuracy: 0.4861111111111111\n"
     ]
    }
   ],
   "source": [
    "#Model training and saving best model\n",
    "\n",
    "best_accuracy=0.0\n",
    "\n",
    "for epoch in range(num_epochs):\n",
    "    \n",
    "    #Evaluation and training on training dataset\n",
    "    model.train()\n",
    "    train_accuracy=0.0\n",
    "    train_loss=0.0\n",
    "    \n",
    "    for i, (images,labels) in enumerate(train_loader):\n",
    "        if torch.cuda.is_available():\n",
    "            images=Variable(images.cuda())\n",
    "            labels=Variable(labels.cuda())\n",
    "            \n",
    "        optimizer.zero_grad()\n",
    "        \n",
    "        outputs=model(images)\n",
    "        loss=loss_function(outputs,labels)\n",
    "        loss.backward()\n",
    "        optimizer.step()\n",
    "        \n",
    "        \n",
    "        train_loss+= loss.cpu().data*images.size(0)\n",
    "        _,prediction=torch.max(outputs.data,1)\n",
    "        \n",
    "        train_accuracy+=int(torch.sum(prediction==labels.data))\n",
    "        \n",
    "    train_accuracy=train_accuracy/train_count\n",
    "    train_loss=train_loss/train_count\n",
    "    \n",
    "    \n",
    "    # Evaluation on testing dataset\n",
    "    model.eval()\n",
    "    \n",
    "    test_accuracy=0.0\n",
    "    for i, (images,labels) in enumerate(test_loader):\n",
    "        if torch.cuda.is_available():\n",
    "            images=Variable(images.cuda())\n",
    "            labels=Variable(labels.cuda())\n",
    "            \n",
    "        outputs=model(images)\n",
    "        _,prediction=torch.max(outputs.data,1)\n",
    "        test_accuracy+=int(torch.sum(prediction==labels.data))\n",
    "    \n",
    "    test_accuracy=test_accuracy/test_count\n",
    "    \n",
    "    \n",
    "    print('Epoch: '+str(epoch)+' Train Loss: '+str(train_loss)+' Train Accuracy: '+str(train_accuracy)+' Test Accuracy: '+str(test_accuracy))\n",
    "    \n",
    "    #Save the best model\n",
    "    if test_accuracy>best_accuracy:\n",
    "        torch.save(model.state_dict(),'best_checkpoint.model')\n",
    "        best_accuracy=test_accuracy\n",
    "    \n",
    "       \n"
   ]
  },
  {
   "cell_type": "code",
   "execution_count": null,
   "metadata": {},
   "outputs": [],
   "source": []
  },
  {
   "cell_type": "code",
   "execution_count": null,
   "metadata": {},
   "outputs": [],
   "source": []
  }
 ],
 "metadata": {
  "kernelspec": {
   "display_name": "Python 3 (ipykernel)",
   "language": "python",
   "name": "python3"
  },
  "language_info": {
   "codemirror_mode": {
    "name": "ipython",
    "version": 3
   },
   "file_extension": ".py",
   "mimetype": "text/x-python",
   "name": "python",
   "nbconvert_exporter": "python",
   "pygments_lexer": "ipython3",
   "version": "3.10.11"
  }
 },
 "nbformat": 4,
 "nbformat_minor": 4
}
