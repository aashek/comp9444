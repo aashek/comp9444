{
 "cells": [
  {
   "cell_type": "markdown",
   "id": "2cfe0a0d-a7d5-4a0c-967b-25dd88369309",
   "metadata": {},
   "source": [
    "# Hand Gesture Recogntion"
   ]
  },
  {
   "cell_type": "markdown",
   "id": "077e5f79-6a22-4f59-bcf9-d45b11b0e6e9",
   "metadata": {},
   "source": [
    "Notebook for COMP9447 project"
   ]
  },
  {
   "cell_type": "markdown",
   "id": "599b06d0-56c9-49e8-947a-5d4e6bd5c301",
   "metadata": {},
   "source": [
    "## Resize images to 128x70 pixels"
   ]
  },
  {
   "cell_type": "markdown",
   "id": "170642b6-2ceb-4094-8587-34021196eab6",
   "metadata": {},
   "source": [
    "For this project we used this [hand gesture dataset](https://data.mendeley.com/datasets/jzy8zngkbg/4). However, the problem with this dataset, as it is, is that the images in it are very large, namely 1280x720 pixels. Training our model on images this large would take a very long time, and require lots of computing resources. Fortunately, the important aspects of the data are not contained in the detail (i.e. high resolution) of the images: we can afford to dramatically reduce the resolution of the images without losing important information in the data. This makes training the model much more efficient."
   ]
  },
  {
   "cell_type": "markdown",
   "id": "bc861b26-e535-46c3-8e37-f9c1f4c09ac4",
   "metadata": {},
   "source": [
    "To reduce image resolution we used the python library [Pillow](https://pillow.readthedocs.io/en/latest/index.html). Indeed, we were able to reduce the resolution of the images by a factor of 10, namely to 128x70 pixels. The resulting images preserve the aspect ratio, meaning we don't get distorted pictures. And nothing is cropped from the original image, meaning important components of the original data are not lost. We aimed for the smallest resolution such that we, with human eyes, could still discern the important details of the image."
   ]
  },
  {
   "cell_type": "code",
   "execution_count": 4,
   "id": "aef0412f-b066-4bf8-9766-e2708167479b",
   "metadata": {},
   "outputs": [
    {
     "name": "stdout",
     "output_type": "stream",
     "text": [
      "Collecting Pillow\n",
      "  Obtaining dependency information for Pillow from https://files.pythonhosted.org/packages/16/b5/b8e7419e1d746246bca06fd38eb988507b382f3fd2ee5dede2e4154022ad/Pillow-10.0.0-cp39-cp39-macosx_11_0_arm64.whl.metadata\n",
      "  Downloading Pillow-10.0.0-cp39-cp39-macosx_11_0_arm64.whl.metadata (9.5 kB)\n",
      "Downloading Pillow-10.0.0-cp39-cp39-macosx_11_0_arm64.whl (3.1 MB)\n",
      "\u001b[2K   \u001b[38;2;114;156;31m━━━━━━━━━━━━━━━━━━━━━━━━━━━━━━━━━━━━━━━━\u001b[0m \u001b[32m3.1/3.1 MB\u001b[0m \u001b[31m6.5 MB/s\u001b[0m eta \u001b[36m0:00:00\u001b[0m[31m6.7 MB/s\u001b[0m eta \u001b[36m0:00:01\u001b[0m\n",
      "\u001b[?25hInstalling collected packages: Pillow\n",
      "Successfully installed Pillow-10.0.0\n"
     ]
    }
   ],
   "source": [
    "!pip install Pillow"
   ]
  },
  {
   "cell_type": "code",
   "execution_count": 56,
   "id": "10a9e564-552c-48e5-80b9-3d96fb9302ef",
   "metadata": {},
   "outputs": [],
   "source": [
    "from PIL import Image\n",
    "import os\n",
    "\n",
    "ROOT_PATH = \"./HGM-1.0\"\n",
    "\n",
    "# iterate through the different angles of the gesture\n",
    "for f in os.listdir(ROOT_PATH):\n",
    "    if not os.path.isdir(f\"{ROOT_PATH}/{f}\"): continue\n",
    "\n",
    "    # create directories for each angle\n",
    "    if not os.path.exists(f\"256x144/{f}\"): os.makedirs(f\"256x144/{f}\")\n",
    "    if not os.path.exists(f\"128x72/{f}\"): os.makedirs(f\"128x72/{f}\")\n",
    "\n",
    "    # iterate through each letter for this angle\n",
    "    for g in os.listdir(f\"{ROOT_PATH}/{f}\"):\n",
    "        if not os.path.isdir(f\"{ROOT_PATH}/{f}/{g}\"): continue\n",
    "\n",
    "        # create directories for each letter\n",
    "        if not os.path.exists(f\"256x144/{f}/{g}\"): os.makedirs(f\"256x144/{f}/{g}\")\n",
    "        if not os.path.exists(f\"128x72/{f}/{g}\"): os.makedirs(f\"128x72/{f}/{g}\")\n",
    "\n",
    "        # iterate through each image for this letter\n",
    "        for h in os.listdir(f\"{ROOT_PATH}/{f}/{g}\"):\n",
    "            if h.endswith(\".jpg\"):\n",
    "                with Image.open(f\"{ROOT_PATH}/{f}/{g}/{h}\") as im:\n",
    "                    # convert to 256x144 pixel images\n",
    "                    new_256 = im.copy()\n",
    "                    new_256.thumbnail((256,144))\n",
    "                    new_256.save(f\"256x144/{f}/{g}/{h}\")\n",
    "                    \n",
    "                    # convert to 128x72 pixel images\n",
    "                    new_128 = im.copy()\n",
    "                    new_128.thumbnail((128,72))\n",
    "                    new_128.save(f\"128x72/{f}/{g}/{h}\")\n",
    "                    "
   ]
  },
  {
   "cell_type": "code",
   "execution_count": null,
   "id": "3bc25acd-7d74-4364-a25e-a6c59a572d24",
   "metadata": {},
   "outputs": [],
   "source": []
  }
 ],
 "metadata": {
  "kernelspec": {
   "display_name": "Python 3 (ipykernel)",
   "language": "python",
   "name": "python3"
  },
  "language_info": {
   "codemirror_mode": {
    "name": "ipython",
    "version": 3
   },
   "file_extension": ".py",
   "mimetype": "text/x-python",
   "name": "python",
   "nbconvert_exporter": "python",
   "pygments_lexer": "ipython3",
   "version": "3.9.16"
  }
 },
 "nbformat": 4,
 "nbformat_minor": 5
}
